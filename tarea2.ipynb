{
 "cells": [
  {
   "cell_type": "code",
   "execution_count": 10,
   "metadata": {
    "collapsed": false
   },
   "outputs": [
    {
     "name": "stdout",
     "output_type": "stream",
     "text": [
      "Populating the interactive namespace from numpy and matplotlib\n"
     ]
    }
   ],
   "source": [
    "import numpy as np\n",
    "import matplotlib.pyplot as plt\n",
    "import scipy as sp\n",
    "from scipy.special import erf\n",
    "import math as mt\n",
    "%pylab inline"
   ]
  },
  {
   "cell_type": "markdown",
   "metadata": {},
   "source": [
    "# Chisq minimization with Montecarlo Sampling"
   ]
  },
  {
   "cell_type": "code",
   "execution_count": 2,
   "metadata": {
    "collapsed": true
   },
   "outputs": [],
   "source": [
    "x,y,err = np.loadtxt('chi2.txt', unpack=True).T"
   ]
  },
  {
   "cell_type": "code",
   "execution_count": 3,
   "metadata": {
    "collapsed": false
   },
   "outputs": [
    {
     "data": {
      "text/plain": [
       "<matplotlib.colorbar.Colorbar at 0x7fbf89da4828>"
      ]
     },
     "execution_count": 3,
     "metadata": {},
     "output_type": "execute_result"
    },
    {
     "data": {
      "image/png": "[encoded data removed]",
      "text/plain": [
       "<Figure size 432x288 with 2 Axes>"
      ]
     },
     "metadata": {},
     "output_type": "display_data"
    }
   ],
   "source": [
    "chi2 = np.zeros( (100, 100, 100) )\n",
    "\n",
    "a = np.linspace(-1, 5, 100)\n",
    "b = np.linspace(-1, 5, 100)\n",
    "c = np.linspace(-1, 5, 100)\n",
    "\n",
    "for i in range(0,100):\n",
    "    for j in range(0,100):\n",
    "        for k in range(0,100):\n",
    "            \n",
    "            chi2[i,j,k] = np.sum( np.power(a[i]*x**2 + b[j]*x + c[k] - y,2)/(err**2) )\n",
    "\n",
    "     \n",
    "    \n",
    "t_min = np.unravel_index(chi2.argmin(), chi2.shape)"
   ]
  },
  {
   "cell_type": "code",
   "execution_count": 6,
   "metadata": {
    "collapsed": false
   },
   "outputs": [
    {
     "name": "stdout",
     "output_type": "stream",
     "text": [
      "13 54 50\n",
      "135450\n",
      "18.239030310957983\n",
      "Results for a,b,c = \n"
     ]
    },
    {
     "data": {
      "text/plain": [
       "(-0.21212121212121215, 2.272727272727273, 2.0303030303030303)"
      ]
     },
     "execution_count": 6,
     "metadata": {},
     "output_type": "execute_result"
    }
   ],
   "source": [
    "print(t_min[0], t_min[1], t_min[2])\n",
    "print(np.argmin(chi2))\n",
    "print(chi2[t_min])\n",
    "\n",
    "print ('Results for a,b,c = ')\n",
    "a[t_min[0]], b[t_min[1]], c[t_min[2]]"
   ]
  },
  {
   "cell_type": "code",
   "execution_count": 11,
   "metadata": {
    "collapsed": false
   },
   "outputs": [
    {
     "name": "stdout",
     "output_type": "stream",
     "text": [
      "741 29.92792792792793\n",
      "999 40.0\n",
      "999 40.0\n"
     ]
    },
    {
     "data": {
      "text/plain": [
       "[<matplotlib.lines.Line2D at 0x7fbfb7afe710>]"
      ]
     },
     "execution_count": 11,
     "metadata": {},
     "output_type": "execute_result"
    },
    {
     "data": {
      "image/png": "[encoded data removed]",
      "text/plain": [
       "<Figure size 432x288 with 1 Axes>"
      ]
     },
     "metadata": {},
     "output_type": "display_data"
    }
   ],
   "source": [
    "#Valores para sigma\n",
    "sigma1=0.68268949\n",
    "sigma2=0.95449974\n",
    "sigma3=0.9973002\n",
    "\n",
    "sigma=np.zeros(3)\n",
    "sigma[0]=sigma1\n",
    "sigma[1]=sigma2\n",
    "sigma[2]=sigma3\n",
    "\n",
    "index_sig = np.zeros(3, int)\n",
    "\n",
    "dof = len(x)-3\n",
    "val = np.linspace(1,40, 1000)\n",
    "gi = np.zeros(1000)\n",
    "for i in range(len(val)):\n",
    "    gi[i] = sp.special.gammainc(dof/2.,val[i]/2)\n",
    "\n",
    "\n",
    "for i in range(len(sigma)):\n",
    "    index_sig[i] =  int(round(np.argmin( abs(gi - sigma[i]) )) )\n",
    "    print (index_sig[i], val[index_sig[i]])\n",
    "\n",
    "plt.plot(val, gi)\n",
    "\n"
   ]
  },
  {
   "cell_type": "code",
   "execution_count": 12,
   "metadata": {
    "collapsed": false
   },
   "outputs": [
    {
     "name": "stdout",
     "output_type": "stream",
     "text": [
      "[741 999 999]\n",
      "levels 1sima, 2sigma, 3 sigma\n"
     ]
    },
    {
     "data": {
      "text/plain": [
       "array([29.92792793, 40.        , 40.        ])"
      ]
     },
     "execution_count": 12,
     "metadata": {},
     "output_type": "execute_result"
    }
   ],
   "source": [
    "print (index_sig)\n",
    "\n",
    "levels = val[index_sig]\n",
    "print ('levels 1sima, 2sigma, 3 sigma') \n",
    "levels\n",
    "\n"
   ]
  },
  {
   "cell_type": "code",
   "execution_count": 14,
   "metadata": {
    "collapsed": false
   },
   "outputs": [],
   "source": [
    "#Valores reales \n",
    "ar=-0.2\n",
    "br=2\n",
    "cr=3\n",
    "\n",
    "\n",
    "\n"
   ]
  },
  {
   "cell_type": "code",
   "execution_count": 15,
   "metadata": {
    "collapsed": true
   },
   "outputs": [],
   "source": [
    "best_model = a[t_min[0]]*np.power(x,2) + b[t_min[1]]*x + c[t_min[2]]\n",
    "real_model = ar*np.power(x,2) + br*x + cr"
   ]
  },
  {
   "cell_type": "code",
   "execution_count": 16,
   "metadata": {
    "collapsed": false
   },
   "outputs": [
    {
     "data": {
      "text/plain": [
       "<matplotlib.legend.Legend at 0x7fbf7f9680f0>"
      ]
     },
     "execution_count": 16,
     "metadata": {},
     "output_type": "execute_result"
    },
    {
     "data": {
      "image/png": "[encoded data removed]",
      "text/plain": [
       "<Figure size 432x288 with 1 Axes>"
      ]
     },
     "metadata": {},
     "output_type": "display_data"
    }
   ],
   "source": [
    "plt.errorbar(x,y,err, fmt='o', color='r')\n",
    "plt.plot(x, best_model, linewidth=2, color='blue', label='Best fit' )\n",
    "plt.xlim(-1,11)\n",
    "plt.plot(x, real_model, linewidth=2, color='y', label='Real')\n",
    "plt.legend()"
   ]
  },
  {
   "cell_type": "markdown",
   "metadata": {},
   "source": [
    "# Derive Bayes theorem from $p(x,y)=p(y,x)$"
   ]
  },
  {
   "cell_type": "markdown",
   "metadata": {},
   "source": [
    "Tenemos que el Teorema de Bayes está dado como \n",
    "\n",
    "$$p(y|x)=\\frac{p(y|x)p(y)}{p(x)}$$\n",
    "\n",
    "Para llegar a este resultado basta con usar la regla del producto para la probabilidad  y que $p(x,y)=p(y,x)$. Comencemos de la regla del producto:\n",
    "\n",
    "$$p(y,x)=p(y|x)p(x)$$\n",
    "\n",
    "pero $p(y,x)=p(x,y)$, usando nuevamente la regla del producto,\n",
    "\n",
    "$$p(x,y)=p(x|y)p(y)$$\n",
    "\n",
    "De esta manera, tenemos que:\n",
    "\n",
    "$$p(x|y)p(y)=p(y|x)p(x)$$\n",
    "\n",
    "Lo que nos lleva al Teorema de Bayes:\n",
    "\n",
    "$$p(y|x)=\\frac{p(y|x)p(y)}{p(x)}$$"
   ]
  }
 ],
 "metadata": {
  "kernelspec": {
   "display_name": "Python 3",
   "language": "python",
   "name": "python3"
  },
  "language_info": {
   "codemirror_mode": {
    "name": "ipython",
    "version": 3
   },
   "file_extension": ".py",
   "mimetype": "text/x-python",
   "name": "python",
   "nbconvert_exporter": "python",
   "pygments_lexer": "ipython3",
   "version": "3.6.0"
  }
 },
 "nbformat": 4,
 "nbformat_minor": 2
}
